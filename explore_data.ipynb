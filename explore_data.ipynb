{
 "cells": [
  {
   "cell_type": "code",
   "execution_count": 14,
   "metadata": {
    "collapsed": false
   },
   "outputs": [],
   "source": [
    "# read the data from yelp_academic_dataset_review.json into a list of rows\n",
    "# each row is decoded into a dictionary using using json.loads()\n",
    "import json\n",
    "import pandas as pd\n",
    "\n",
    "with open('yelp_academic_dataset_review_50K.json', 'rU') as f:\n",
    "    data = [json.loads(row) for row in f]"
   ]
  },
  {
   "cell_type": "code",
   "execution_count": 15,
   "metadata": {
    "collapsed": false
   },
   "outputs": [
    {
     "name": "stdout",
     "output_type": "stream",
     "text": [
      "{u'votes': {u'funny': 0, u'useful': 0, u'cool': 0}, u'user_id': u'PUFPaY9KxDAcGqfsorJp3Q', u'review_id': u'Ya85v4eqdd6k9Od8HbQjyA', u'text': u'Mr Hoagie is an institution. Walking in, it does seem like a throwback to 30 years ago, old fashioned menu board, booths out of the 70s, and a large selection of food. Their speciality is the Italian Hoagie, and it is voted the best in the area year after year. I usually order the burger, while the patties are obviously cooked from frozen, all of the other ingredients are very fresh. Overall, its a good alternative to Subway, which is down the road.', u'business_id': u'5UmKMjUEUNdYWqANhGckJw', u'stars': 4, u'date': u'2012-08-01', u'type': u'review'}\n"
     ]
    }
   ],
   "source": [
    "# show the first review\n",
    "print data[0]"
   ]
  },
  {
   "cell_type": "code",
   "execution_count": 16,
   "metadata": {
    "collapsed": false
   },
   "outputs": [
    {
     "data": {
      "text/html": [
       "<div style=\"max-height:1000px;max-width:1500px;overflow:auto;\">\n",
       "<table border=\"1\" class=\"dataframe\">\n",
       "  <thead>\n",
       "    <tr style=\"text-align: right;\">\n",
       "      <th></th>\n",
       "      <th>business_id</th>\n",
       "      <th>date</th>\n",
       "      <th>review_id</th>\n",
       "      <th>stars</th>\n",
       "      <th>text</th>\n",
       "      <th>type</th>\n",
       "      <th>user_id</th>\n",
       "      <th>votes</th>\n",
       "    </tr>\n",
       "  </thead>\n",
       "  <tbody>\n",
       "    <tr>\n",
       "      <th>0</th>\n",
       "      <td> 5UmKMjUEUNdYWqANhGckJw</td>\n",
       "      <td> 2012-08-01</td>\n",
       "      <td> Ya85v4eqdd6k9Od8HbQjyA</td>\n",
       "      <td> 4</td>\n",
       "      <td> Mr Hoagie is an institution. Walking in, it do...</td>\n",
       "      <td> review</td>\n",
       "      <td> PUFPaY9KxDAcGqfsorJp3Q</td>\n",
       "      <td> {u'funny': 0, u'useful': 0, u'cool': 0}</td>\n",
       "    </tr>\n",
       "  </tbody>\n",
       "</table>\n",
       "</div>"
      ],
      "text/plain": [
       "              business_id        date               review_id  stars  \\\n",
       "0  5UmKMjUEUNdYWqANhGckJw  2012-08-01  Ya85v4eqdd6k9Od8HbQjyA      4   \n",
       "\n",
       "                                                text    type  \\\n",
       "0  Mr Hoagie is an institution. Walking in, it do...  review   \n",
       "\n",
       "                  user_id                                    votes  \n",
       "0  PUFPaY9KxDAcGqfsorJp3Q  {u'funny': 0, u'useful': 0, u'cool': 0}  "
      ]
     },
     "execution_count": 16,
     "metadata": {},
     "output_type": "execute_result"
    }
   ],
   "source": [
    "# convert the list of dictionaries to a DataFrame\n",
    "yelp = pd.DataFrame(data)\n",
    "yelp.head(1)"
   ]
  },
  {
   "cell_type": "code",
   "execution_count": 17,
   "metadata": {
    "collapsed": false
   },
   "outputs": [
    {
     "name": "stdout",
     "output_type": "stream",
     "text": [
      "(50000, 8)\n"
     ]
    }
   ],
   "source": [
    "# Show dimension\n",
    "print yelp.shape"
   ]
  },
  {
   "cell_type": "code",
   "execution_count": 18,
   "metadata": {
    "collapsed": false
   },
   "outputs": [
    {
     "data": {
      "text/plain": [
       "(50000, 11)"
      ]
     },
     "execution_count": 18,
     "metadata": {},
     "output_type": "execute_result"
    }
   ],
   "source": [
    "# add DataFrame columns for cool, useful, and funny\n",
    "yelp['cool'] = [row['votes']['cool'] for row in data]\n",
    "yelp['useful'] = [row['votes']['useful'] for row in data]\n",
    "yelp['funny'] = [row['votes']['funny'] for row in data]\n",
    "#Show dimension after adding \n",
    "yelp.shape"
   ]
  },
  {
   "cell_type": "code",
   "execution_count": 19,
   "metadata": {
    "collapsed": false
   },
   "outputs": [
    {
     "data": {
      "text/html": [
       "<div style=\"max-height:1000px;max-width:1500px;overflow:auto;\">\n",
       "<table border=\"1\" class=\"dataframe\">\n",
       "  <thead>\n",
       "    <tr style=\"text-align: right;\">\n",
       "      <th></th>\n",
       "      <th>business_id</th>\n",
       "      <th>date</th>\n",
       "      <th>review_id</th>\n",
       "      <th>stars</th>\n",
       "      <th>text</th>\n",
       "      <th>type</th>\n",
       "      <th>user_id</th>\n",
       "      <th>cool</th>\n",
       "      <th>useful</th>\n",
       "      <th>funny</th>\n",
       "    </tr>\n",
       "  </thead>\n",
       "  <tbody>\n",
       "    <tr>\n",
       "      <th>0</th>\n",
       "      <td> 5UmKMjUEUNdYWqANhGckJw</td>\n",
       "      <td> 2012-08-01</td>\n",
       "      <td> Ya85v4eqdd6k9Od8HbQjyA</td>\n",
       "      <td> 4</td>\n",
       "      <td> Mr Hoagie is an institution. Walking in, it do...</td>\n",
       "      <td> review</td>\n",
       "      <td> PUFPaY9KxDAcGqfsorJp3Q</td>\n",
       "      <td> 0</td>\n",
       "      <td> 0</td>\n",
       "      <td> 0</td>\n",
       "    </tr>\n",
       "  </tbody>\n",
       "</table>\n",
       "</div>"
      ],
      "text/plain": [
       "              business_id        date               review_id  stars  \\\n",
       "0  5UmKMjUEUNdYWqANhGckJw  2012-08-01  Ya85v4eqdd6k9Od8HbQjyA      4   \n",
       "\n",
       "                                                text    type  \\\n",
       "0  Mr Hoagie is an institution. Walking in, it do...  review   \n",
       "\n",
       "                  user_id  cool  useful  funny  \n",
       "0  PUFPaY9KxDAcGqfsorJp3Q     0       0      0  "
      ]
     },
     "execution_count": 19,
     "metadata": {},
     "output_type": "execute_result"
    }
   ],
   "source": [
    "# drop the votes column\n",
    "yelp.drop('votes', axis=1, inplace=True)\n",
    "yelp.head(1)"
   ]
  },
  {
   "cell_type": "code",
   "execution_count": 20,
   "metadata": {
    "collapsed": false,
    "scrolled": true
   },
   "outputs": [
    {
     "data": {
      "text/html": [
       "<div style=\"max-height:1000px;max-width:1500px;overflow:auto;\">\n",
       "<table border=\"1\" class=\"dataframe\">\n",
       "  <thead>\n",
       "    <tr style=\"text-align: right;\">\n",
       "      <th></th>\n",
       "      <th>cool</th>\n",
       "      <th>useful</th>\n",
       "      <th>funny</th>\n",
       "    </tr>\n",
       "    <tr>\n",
       "      <th>stars</th>\n",
       "      <th></th>\n",
       "      <th></th>\n",
       "      <th></th>\n",
       "    </tr>\n",
       "  </thead>\n",
       "  <tbody>\n",
       "    <tr>\n",
       "      <th>1</th>\n",
       "      <td> 0.190649</td>\n",
       "      <td> 1.018461</td>\n",
       "      <td> 0.452208</td>\n",
       "    </tr>\n",
       "    <tr>\n",
       "      <th>2</th>\n",
       "      <td> 0.299398</td>\n",
       "      <td> 1.012249</td>\n",
       "      <td> 0.465863</td>\n",
       "    </tr>\n",
       "    <tr>\n",
       "      <th>3</th>\n",
       "      <td> 0.448723</td>\n",
       "      <td> 0.862020</td>\n",
       "      <td> 0.416506</td>\n",
       "    </tr>\n",
       "    <tr>\n",
       "      <th>4</th>\n",
       "      <td> 0.573698</td>\n",
       "      <td> 0.934410</td>\n",
       "      <td> 0.390376</td>\n",
       "    </tr>\n",
       "    <tr>\n",
       "      <th>5</th>\n",
       "      <td> 0.478018</td>\n",
       "      <td> 0.822235</td>\n",
       "      <td> 0.301420</td>\n",
       "    </tr>\n",
       "  </tbody>\n",
       "</table>\n",
       "</div>"
      ],
      "text/plain": [
       "           cool    useful     funny\n",
       "stars                              \n",
       "1      0.190649  1.018461  0.452208\n",
       "2      0.299398  1.012249  0.465863\n",
       "3      0.448723  0.862020  0.416506\n",
       "4      0.573698  0.934410  0.390376\n",
       "5      0.478018  0.822235  0.301420"
      ]
     },
     "execution_count": 20,
     "metadata": {},
     "output_type": "execute_result"
    }
   ],
   "source": [
    "#Explore the relationship between each of the vote types (cool/useful/funny) and the number of stars.\n",
    "# treat stars as a categorical variable and look for differences between groups\n",
    "yelp.groupby('stars').mean()\n"
   ]
  },
  {
   "cell_type": "code",
   "execution_count": 21,
   "metadata": {
    "collapsed": true
   },
   "outputs": [],
   "source": [
    "#Reviews Length \n",
    "yelp['reviews_length'] = [len(row['text'] ) for row in data]\n"
   ]
  },
  {
   "cell_type": "code",
   "execution_count": 22,
   "metadata": {
    "collapsed": false
   },
   "outputs": [
    {
     "name": "stdout",
     "output_type": "stream",
     "text": [
      "(50000, 11)\n",
      "              business_id        date               review_id  stars  \\\n",
      "0  5UmKMjUEUNdYWqANhGckJw  2012-08-01  Ya85v4eqdd6k9Od8HbQjyA      4   \n",
      "\n",
      "                                                text    type  \\\n",
      "0  Mr Hoagie is an institution. Walking in, it do...  review   \n",
      "\n",
      "                  user_id  cool  useful  funny  reviews_length  \n",
      "0  PUFPaY9KxDAcGqfsorJp3Q     0       0      0             453  \n"
     ]
    }
   ],
   "source": [
    "#show dimension after adding new fature reviews_length\n",
    "print yelp.shape\n",
    "print yelp.head(1)"
   ]
  },
  {
   "cell_type": "code",
   "execution_count": 28,
   "metadata": {
    "collapsed": false
   },
   "outputs": [
    {
     "name": "stdout",
     "output_type": "stream",
     "text": [
      "              business_id        date               review_id  stars  \\\n",
      "5  UsFtqoBl7naz8AVUBZMjQQ  2014-10-29  7N9j5YbBHBW6qguE5DAeyA      1   \n",
      "\n",
      "                                                text    type  \\\n",
      "5  Wing sauce is like water. Pretty much a lot of...  review   \n",
      "\n",
      "                  user_id  cool  useful  funny  reviews_length  \n",
      "5  PP_xoMSYlGr2pb67BbqBdA     0       0      0             307  \n",
      "765.932194617\n",
      "0.914791526747\n"
     ]
    }
   ],
   "source": [
    "# Separate review dataset based on star rating\n",
    "data_review_1stars = yelp.loc[yelp['stars'] == 1]\n",
    "data_review_2stars = yelp.loc[yelp['stars'] == 2] \n",
    "data_review_3stars = yelp.loc[yelp['stars'] == 3]\n",
    "data_review_4stars = yelp.loc[yelp['stars'] == 4]\n",
    "data_review_5stars = yelp.loc[yelp['stars'] == 5]\n",
    "print (data_review_1stars.head(1))\n"
   ]
  },
  {
   "cell_type": "code",
   "execution_count": 24,
   "metadata": {
    "collapsed": false
   },
   "outputs": [],
   "source": [
    "# Look at rating (stars) distribution\n",
    "# Distribution is obviously skewed. People tend to write positive reviews\n",
    "import matplotlib.pyplot as plt\n",
    "counts = (data_review_1stars.size, data_review_2stars.size, data_review_3stars.size, \n",
    "            data_review_4stars.size, data_review_5stars.size)\n",
    "N = len(counts)\n",
    "x = range(N)\n",
    "width = 1.0/1.2\n",
    "plt.xlabel('Star Rating')\n",
    "plt.ylabel('Count')\n",
    "plt.title('Number of Reviews with Star Ratings 1-5')\n",
    "plt.bar(x, counts, width, color=\"blue\")\n",
    "\n",
    "plt.savefig('rating_distribution.png')\n",
    "plt.show()"
   ]
  },
  {
   "cell_type": "code",
   "execution_count": 57,
   "metadata": {
    "collapsed": false
   },
   "outputs": [
    {
     "name": "stdout",
     "output_type": "stream",
     "text": [
      "maen: 6.25741003983 Standard Deviation 0.914791526747\n",
      "maen: 6.22045732056 Standard Deviation 0.861246946387\n",
      "maen: 5.93054171097 Standard Deviation 0.882837740636\n"
     ]
    }
   ],
   "source": [
    "# Correlation between review length and star rating?\n",
    "\n",
    "import numpy as np\n",
    "sigma = np.std(np.log(data_review_1stars['reviews_length'].tolist()))\n",
    "mu = np.mean(np.log(data_review_1stars['reviews_length'].tolist()))\n",
    "#np.random.seed(1)\n",
    "#print np.random.lognormal(mu, sigma)\n",
    "print 'maen:', mu , 'Standard Deviation', sigma\n",
    "\n",
    "plt.xlabel('Length')\n",
    "plt.ylabel('Probability')\n",
    "plt.title('Count of 1-Stars Review Lengths')\n",
    "count, bins, ignored = plt.hist(data_review_1stars['reviews_length'].tolist(), bins=20, normed=True)\n",
    "\n",
    "x = np.linspace(min(bins), max(bins), 10000)\n",
    "pdf = (np.exp(-(np.log(x) - mu)**2 / (2 * sigma**2))\n",
    "       / (x * sigma * np.sqrt(2 * np.pi)))\n",
    "plt.plot(x, pdf, color='r', linewidth=2)\n",
    "\n",
    "plt.savefig('review_length_1.png')\n",
    "plt.show()\n",
    "\n",
    "# Correlation between review length and star rating?\n",
    "\n",
    "plt.xlabel('Length')\n",
    "plt.ylabel('Probability')\n",
    "plt.title('Count of 1-Stars Review Lengths')\n",
    "plt.hist(data_review_1stars['reviews_length'].tolist(), bins=20, normed=True)\n",
    "plt.savefig('review_length_1.png')\n",
    "plt.show()\n",
    "\n",
    "# Correlation between review length and star rating?\n",
    "sigma = np.std(np.log(data_review_3stars['reviews_length'].tolist()))\n",
    "mu = np.mean(np.log(data_review_3stars['reviews_length'].tolist()))\n",
    "# nearly identical log-normal distributions\n",
    "#np.random.seed(1)\n",
    "#print np.random.lognormal(mu, sigma)\n",
    "print 'maen:', mu , 'Standard Deviation', sigma\n",
    "\n",
    "plt.xlabel('Length')\n",
    "plt.ylabel('Probability')\n",
    "plt.title('Count of 3-Stars Review Lengths')\n",
    "count, bins, ignored = plt.hist(data_review_3stars['reviews_length'].tolist(), bins=20, normed=True)\n",
    "\n",
    "x = np.linspace(min(bins), max(bins), 10000)\n",
    "pdf = (np.exp(-(np.log(x) - mu)**2 / (2 * sigma**2))\n",
    "       / (x * sigma * np.sqrt(2 * np.pi)))\n",
    "\n",
    "plt.plot(x, pdf, color='r', linewidth=2)\n",
    "plt.savefig('review_length_3.png')\n",
    "plt.show()\n",
    "\n",
    "# Correlation between review length and star rating?\n",
    "sigma = np.std(np.log(data_review_5stars['reviews_length'].tolist()))\n",
    "mu = np.mean(np.log(data_review_5stars['reviews_length'].tolist()))\n",
    "#np.random.seed(1)\n",
    "#print np.random.lognormal(mu, sigma)\n",
    "print 'maen:', mu , 'Standard Deviation', sigma\n",
    "plt.xlabel('Length')\n",
    "plt.ylabel('Probability')\n",
    "plt.title('Count of 5-Stars Review Lengths')\n",
    "count, bins, ignored = plt.hist(data_review_5stars['reviews_length'].tolist(), bins=20, normed=True)\n",
    "\n",
    "x = np.linspace(min(bins), max(bins), 10000)\n",
    "pdf = (np.exp(-(np.log(x) - mu)**2 / (2 * sigma**2))\n",
    "       / (x * sigma * np.sqrt(2 * np.pi)))\n",
    "\n",
    "plt.plot(x, pdf, color='r', linewidth=2)\n",
    "\n",
    "plt.savefig('review_length_5.png')\n",
    "plt.show()"
   ]
  },
  {
   "cell_type": "code",
   "execution_count": 56,
   "metadata": {
    "collapsed": false
   },
   "outputs": [
    {
     "name": "stdout",
     "output_type": "stream",
     "text": [
      "maen: 5.93054171097 Standard Deviation 0.882837740636\n"
     ]
    }
   ],
   "source": [
    "print 'maen:', mu , 'Standard Deviation', sigma\n",
    "\n"
   ]
  },
  {
   "cell_type": "code",
   "execution_count": null,
   "metadata": {
    "collapsed": true
   },
   "outputs": [],
   "source": []
  }
 ],
 "metadata": {
  "kernelspec": {
   "display_name": "Python 2",
   "language": "python",
   "name": "python2"
  },
  "language_info": {
   "codemirror_mode": {
    "name": "ipython",
    "version": 2
   },
   "file_extension": ".py",
   "mimetype": "text/x-python",
   "name": "python",
   "nbconvert_exporter": "python",
   "pygments_lexer": "ipython2",
   "version": "2.7.11"
  }
 },
 "nbformat": 4,
 "nbformat_minor": 0
}
