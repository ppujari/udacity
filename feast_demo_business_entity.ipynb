{
 "cells": [
  {
   "cell_type": "markdown",
   "metadata": {
    "id": "p5JTeKfCVBZf"
   },
   "source": [
    "# Feature Store - FEAST\n"
   ]
  },
  {
   "cell_type": "markdown",
   "metadata": {},
   "source": [
    "# What is the problem?\n",
    "\n",
    "### Missing Values\n",
    "### Label Encoder\n",
    "### New feature combining existing features e.g area = len x width\n",
    "\n",
    "\n"
   ]
  },
  {
   "cell_type": "code",
   "execution_count": 1,
   "metadata": {},
   "outputs": [
    {
     "name": "stdout",
     "output_type": "stream",
     "text": [
      "[[ 7.   2.   3. ]\n",
      " [ 4.   3.5  6. ]\n",
      " [10.   3.5  9. ]]\n"
     ]
    }
   ],
   "source": [
    "import numpy as np\n",
    "from sklearn.impute import SimpleImputer\n",
    "imp_mean = SimpleImputer(missing_values=np.nan, strategy='mean')\n",
    "imp_mean.fit([[7, 2, 3], [4, np.nan, 6], [10, 5, 9]])\n",
    "\n",
    "X = [[np.nan, 2, 3], [4, np.nan, 6], [10, np.nan, 9]]\n",
    "print(imp_mean.transform(X))\n",
    "\n"
   ]
  },
  {
   "cell_type": "code",
   "execution_count": 2,
   "metadata": {},
   "outputs": [
    {
     "data": {
      "text/plain": [
       "['tokyo', 'tokyo', 'paris']"
      ]
     },
     "execution_count": 2,
     "metadata": {},
     "output_type": "execute_result"
    }
   ],
   "source": [
    "from sklearn import preprocessing\n",
    "le = preprocessing.LabelEncoder()\n",
    "le.fit([\"paris\", \"paris\", \"tokyo\", \"amsterdam\"])\n",
    "\n",
    "list(le.classes_)\n",
    "\n",
    "\n",
    "le.transform([\"tokyo\", \"tokyo\", \"paris\"])\n",
    "\n",
    "list(le.inverse_transform([2, 2, 1]))"
   ]
  },
  {
   "cell_type": "markdown",
   "metadata": {},
   "source": [
    "# Why use Feature Store?\n",
    "### Reuse features, compute once and use by many teams\n",
    "### easire data quality guarantee\n",
    "### It reuses existing infra"
   ]
  },
  {
   "cell_type": "markdown",
   "metadata": {},
   "source": [
    "![title](./images/why_use_fs.png)"
   ]
  },
  {
   "cell_type": "markdown",
   "metadata": {},
   "source": [
    "# What is Feature Store?"
   ]
  },
  {
   "cell_type": "markdown",
   "metadata": {},
   "source": [
    "![title](./images/first_screen.png)"
   ]
  },
  {
   "cell_type": "markdown",
   "metadata": {},
   "source": [
    "# Ingestion Flow\n",
    "\n",
    "![title](./images/simple_fs.jpg)\n"
   ]
  },
  {
   "cell_type": "markdown",
   "metadata": {},
   "source": [
    "# Ingestion Flow-1\n"
   ]
  },
  {
   "cell_type": "markdown",
   "metadata": {},
   "source": [
    "![title](./images/ingestion_1.jpg)"
   ]
  },
  {
   "cell_type": "markdown",
   "metadata": {},
   "source": [
    "# Ingestion Flow-2\n",
    "### Streaming ( Not required for us BUT.....)"
   ]
  },
  {
   "cell_type": "markdown",
   "metadata": {},
   "source": [
    "![title](./images/simple_fs.jpg)"
   ]
  },
  {
   "cell_type": "markdown",
   "metadata": {},
   "source": [
    "# How FS Consumed PART-1\n",
    "![title](./images/consumption_1.jpg)\n"
   ]
  },
  {
   "cell_type": "markdown",
   "metadata": {},
   "source": [
    "# How FS Consumed PART-2\n",
    "![title](./images/consumption_2.jpg)"
   ]
  },
  {
   "cell_type": "markdown",
   "metadata": {},
   "source": [
    "# What is inside FS?"
   ]
  },
  {
   "cell_type": "markdown",
   "metadata": {},
   "source": [
    "![title](./images/inside_fs.png)"
   ]
  },
  {
   "cell_type": "markdown",
   "metadata": {},
   "source": [
    "# What is a Feature Store?\n",
    "\n",
    "\n",
    "### It is a new concept\n",
    "### It is an interface between models and data\n",
    "### It is not Pachederm or ML-FLOW\n",
    "### Feature Store is not a database\n"
   ]
  },
  {
   "cell_type": "markdown",
   "metadata": {},
   "source": [
    "![title](./images/feature-store-feature-image.png)"
   ]
  },
  {
   "cell_type": "markdown",
   "metadata": {},
   "source": [
    "# Proposed Architecture"
   ]
  },
  {
   "cell_type": "markdown",
   "metadata": {},
   "source": [
    "![title](./images/proposed_arch.jpg)"
   ]
  },
  {
   "cell_type": "markdown",
   "metadata": {},
   "source": [
    "### A high-level architecture of system using Feast "
   ]
  },
  {
   "cell_type": "markdown",
   "metadata": {},
   "source": [
    "![title](./images/feast_fraudlent_architecture.png)"
   ]
  },
  {
   "cell_type": "code",
   "execution_count": 3,
   "metadata": {},
   "outputs": [],
   "source": [
    "import feast\n",
    "import pandas as pd\n",
    "from google.protobuf.duration_pb2 import Duration\n",
    "from feast import Entity, Feature, FeatureView, FileSource, ValueType\n",
    "from datetime import datetime, timedelta\n",
    "import pandas as pd\n",
    "from feast import FeatureStore"
   ]
  },
  {
   "cell_type": "code",
   "execution_count": 4,
   "metadata": {},
   "outputs": [
    {
     "name": "stdout",
     "output_type": "stream",
     "text": [
      "Feast SDK Version: \"feast 0.12.0\"\r\n"
     ]
    }
   ],
   "source": [
    "!feast version"
   ]
  },
  {
   "cell_type": "code",
   "execution_count": 5,
   "metadata": {},
   "outputs": [],
   "source": [
    "#!feast init business_matching_repo"
   ]
  },
  {
   "cell_type": "code",
   "execution_count": 6,
   "metadata": {},
   "outputs": [
    {
     "name": "stdout",
     "output_type": "stream",
     "text": [
      "business_match_feature_defn.py   feast_demo_business_entity.ipynb\r\n",
      "\u001b[1m\u001b[36mdata\u001b[m\u001b[m                             feature_store.yaml\r\n",
      "feast_demo.ipynb                 \u001b[1m\u001b[36mimages\u001b[m\u001b[m\r\n",
      "\r\n",
      "./data:\r\n",
      "business_profile.parquet online_store.db          registry.db\r\n",
      "\r\n",
      "./images:\r\n",
      "IMG-5846.jpg                     ingestion_1.jpg\r\n",
      "IMG-6020.jpg                     ingestion_2.png\r\n",
      "consumption_1.jpg                inside_fs.jpg\r\n",
      "consumption_2.jpg                inside_fs.png\r\n",
      "feast_fraudlent_architecture.png ooff_to_on.png\r\n",
      "feast_logo.png                   proposed_arch.jpg\r\n",
      "feastore_usage.jpg               simple_fs.jpg\r\n",
      "feature-store-feature-image.png  why_use_fs.png\r\n",
      "first_screen.png\r\n"
     ]
    }
   ],
   "source": [
    "!ls -R"
   ]
  },
  {
   "cell_type": "code",
   "execution_count": 32,
   "metadata": {},
   "outputs": [],
   "source": [
    "from feast import FeatureStore\n",
    "store = FeatureStore('/Users/pradeeppujari/projects/feast/examples/business_matching_repo/')"
   ]
  },
  {
   "cell_type": "markdown",
   "metadata": {},
   "source": [
    "### Read offline raw data from excel sheet as of now. Later on we can use SnowFlake?"
   ]
  },
  {
   "cell_type": "code",
   "execution_count": 33,
   "metadata": {},
   "outputs": [],
   "source": [
    "#reviews_df = pd.read_excel('/Users/pradeeppujari/projects/feast/examples/data/sds_training_raw_data.xlsx')\n",
    "sds_raw_df = pd.read_csv('/Users/pradeeppujari/Downloads/sds_training_raw_data.csv')"
   ]
  },
  {
   "cell_type": "code",
   "execution_count": 34,
   "metadata": {},
   "outputs": [],
   "source": [
    "sds_raw_df['event_timestamp'] = datetime.now()\n",
    "sds_raw_df['created'] = datetime.now()"
   ]
  },
  {
   "cell_type": "code",
   "execution_count": 35,
   "metadata": {},
   "outputs": [
    {
     "data": {
      "text/html": [
       "<div>\n",
       "<style scoped>\n",
       "    .dataframe tbody tr th:only-of-type {\n",
       "        vertical-align: middle;\n",
       "    }\n",
       "\n",
       "    .dataframe tbody tr th {\n",
       "        vertical-align: top;\n",
       "    }\n",
       "\n",
       "    .dataframe thead th {\n",
       "        text-align: right;\n",
       "    }\n",
       "</style>\n",
       "<table border=\"1\" class=\"dataframe\">\n",
       "  <thead>\n",
       "    <tr style=\"text-align: right;\">\n",
       "      <th></th>\n",
       "      <th>ROW_ID</th>\n",
       "      <th>ELASTICSEARCH_SCORE</th>\n",
       "      <th>BUSINESS_LOCATION_ID</th>\n",
       "      <th>BUSINESS_NAME</th>\n",
       "      <th>BUSINESS_ADDRESS</th>\n",
       "      <th>BUSINESS_CITY</th>\n",
       "      <th>BUSINESS_STATE</th>\n",
       "      <th>BUSINESS_ZIPCODE</th>\n",
       "      <th>BUSINESS_PHONE</th>\n",
       "      <th>BUSINESS_LON</th>\n",
       "      <th>...</th>\n",
       "      <th>PROFILE_LATITUDE</th>\n",
       "      <th>PROFILE_LONGITUDE</th>\n",
       "      <th>PROFILE_PHONE</th>\n",
       "      <th>PROFILE_EXTERNAL_ID</th>\n",
       "      <th>EXTERNAL_SERVICE_TYPE</th>\n",
       "      <th>EXTERNAL_URL</th>\n",
       "      <th>RANDOM</th>\n",
       "      <th>LABEL</th>\n",
       "      <th>event_timestamp</th>\n",
       "      <th>created</th>\n",
       "    </tr>\n",
       "  </thead>\n",
       "  <tbody>\n",
       "    <tr>\n",
       "      <th>0</th>\n",
       "      <td>0</td>\n",
       "      <td>230</td>\n",
       "      <td>1009048158</td>\n",
       "      <td>New York State West Youth</td>\n",
       "      <td>11397 Lpga Dr</td>\n",
       "      <td>Corning</td>\n",
       "      <td>NY</td>\n",
       "      <td>14830</td>\n",
       "      <td>+16079629923</td>\n",
       "      <td>-77.0475</td>\n",
       "      <td>...</td>\n",
       "      <td>42.149181</td>\n",
       "      <td>-77.058563</td>\n",
       "      <td>6079629923</td>\n",
       "      <td>6112754</td>\n",
       "      <td>YELLOW_PAGES</td>\n",
       "      <td>http://www.yellowpages.com/corning-ny/mip/new-...</td>\n",
       "      <td>-9223370807250347779</td>\n",
       "      <td>0</td>\n",
       "      <td>2021-09-13 14:56:12.644761</td>\n",
       "      <td>2021-09-13 14:56:12.646444</td>\n",
       "    </tr>\n",
       "    <tr>\n",
       "      <th>1</th>\n",
       "      <td>1</td>\n",
       "      <td>225</td>\n",
       "      <td>3910169</td>\n",
       "      <td>NEW YORK STATE WEST YOUTH INTERN</td>\n",
       "      <td>11397 LPGA DRIVE</td>\n",
       "      <td>CORNING</td>\n",
       "      <td>NY</td>\n",
       "      <td>14830</td>\n",
       "      <td>6079629923</td>\n",
       "      <td>-77.0475</td>\n",
       "      <td>...</td>\n",
       "      <td>42.149181</td>\n",
       "      <td>-77.058563</td>\n",
       "      <td>6079629923</td>\n",
       "      <td>6112754</td>\n",
       "      <td>YELLOW_PAGES</td>\n",
       "      <td>http://www.yellowpages.com/corning-ny/mip/new-...</td>\n",
       "      <td>-9223370807250347779</td>\n",
       "      <td>0</td>\n",
       "      <td>2021-09-13 14:56:12.644761</td>\n",
       "      <td>2021-09-13 14:56:12.646444</td>\n",
       "    </tr>\n",
       "    <tr>\n",
       "      <th>2</th>\n",
       "      <td>2</td>\n",
       "      <td>225</td>\n",
       "      <td>3910247</td>\n",
       "      <td>NEW YORK STATE WEST YOUTH MOTO</td>\n",
       "      <td>11397 LPGA DR</td>\n",
       "      <td>CORNING</td>\n",
       "      <td>NY</td>\n",
       "      <td>14830</td>\n",
       "      <td>6079629923</td>\n",
       "      <td>-77.0475</td>\n",
       "      <td>...</td>\n",
       "      <td>42.149181</td>\n",
       "      <td>-77.058563</td>\n",
       "      <td>6079629923</td>\n",
       "      <td>6112754</td>\n",
       "      <td>YELLOW_PAGES</td>\n",
       "      <td>http://www.yellowpages.com/corning-ny/mip/new-...</td>\n",
       "      <td>-9223370807250347779</td>\n",
       "      <td>0</td>\n",
       "      <td>2021-09-13 14:56:12.644761</td>\n",
       "      <td>2021-09-13 14:56:12.646444</td>\n",
       "    </tr>\n",
       "    <tr>\n",
       "      <th>3</th>\n",
       "      <td>3</td>\n",
       "      <td>28</td>\n",
       "      <td>1007547202</td>\n",
       "      <td>New York State Fish Hatchery</td>\n",
       "      <td>7169 Fish Hatchery Rd</td>\n",
       "      <td>Bath</td>\n",
       "      <td>NY</td>\n",
       "      <td>14810</td>\n",
       "      <td>+16077767087</td>\n",
       "      <td>-77.3028</td>\n",
       "      <td>...</td>\n",
       "      <td>42.149181</td>\n",
       "      <td>-77.058563</td>\n",
       "      <td>6079629923</td>\n",
       "      <td>6112754</td>\n",
       "      <td>YELLOW_PAGES</td>\n",
       "      <td>http://www.yellowpages.com/corning-ny/mip/new-...</td>\n",
       "      <td>-9223370807250347779</td>\n",
       "      <td>0</td>\n",
       "      <td>2021-09-13 14:56:12.644761</td>\n",
       "      <td>2021-09-13 14:56:12.646444</td>\n",
       "    </tr>\n",
       "    <tr>\n",
       "      <th>4</th>\n",
       "      <td>4</td>\n",
       "      <td>28</td>\n",
       "      <td>1003465690</td>\n",
       "      <td>New York State United Teachers</td>\n",
       "      <td>100 W Church St # 200</td>\n",
       "      <td>Elmira</td>\n",
       "      <td>NY</td>\n",
       "      <td>14901</td>\n",
       "      <td>+16077321928</td>\n",
       "      <td>-76.8120</td>\n",
       "      <td>...</td>\n",
       "      <td>42.149181</td>\n",
       "      <td>-77.058563</td>\n",
       "      <td>6079629923</td>\n",
       "      <td>6112754</td>\n",
       "      <td>YELLOW_PAGES</td>\n",
       "      <td>http://www.yellowpages.com/corning-ny/mip/new-...</td>\n",
       "      <td>-9223370807250347779</td>\n",
       "      <td>0</td>\n",
       "      <td>2021-09-13 14:56:12.644761</td>\n",
       "      <td>2021-09-13 14:56:12.646444</td>\n",
       "    </tr>\n",
       "  </tbody>\n",
       "</table>\n",
       "<p>5 rows × 30 columns</p>\n",
       "</div>"
      ],
      "text/plain": [
       "   ROW_ID  ELASTICSEARCH_SCORE  BUSINESS_LOCATION_ID  \\\n",
       "0       0                  230            1009048158   \n",
       "1       1                  225               3910169   \n",
       "2       2                  225               3910247   \n",
       "3       3                   28            1007547202   \n",
       "4       4                   28            1003465690   \n",
       "\n",
       "                      BUSINESS_NAME       BUSINESS_ADDRESS BUSINESS_CITY  \\\n",
       "0         New York State West Youth          11397 Lpga Dr       Corning   \n",
       "1  NEW YORK STATE WEST YOUTH INTERN       11397 LPGA DRIVE       CORNING   \n",
       "2    NEW YORK STATE WEST YOUTH MOTO          11397 LPGA DR       CORNING   \n",
       "3      New York State Fish Hatchery  7169 Fish Hatchery Rd          Bath   \n",
       "4    New York State United Teachers  100 W Church St # 200        Elmira   \n",
       "\n",
       "  BUSINESS_STATE BUSINESS_ZIPCODE BUSINESS_PHONE  BUSINESS_LON  ...  \\\n",
       "0             NY            14830   +16079629923      -77.0475  ...   \n",
       "1             NY            14830     6079629923      -77.0475  ...   \n",
       "2             NY            14830     6079629923      -77.0475  ...   \n",
       "3             NY            14810   +16077767087      -77.3028  ...   \n",
       "4             NY            14901   +16077321928      -76.8120  ...   \n",
       "\n",
       "   PROFILE_LATITUDE  PROFILE_LONGITUDE  PROFILE_PHONE PROFILE_EXTERNAL_ID  \\\n",
       "0         42.149181         -77.058563     6079629923             6112754   \n",
       "1         42.149181         -77.058563     6079629923             6112754   \n",
       "2         42.149181         -77.058563     6079629923             6112754   \n",
       "3         42.149181         -77.058563     6079629923             6112754   \n",
       "4         42.149181         -77.058563     6079629923             6112754   \n",
       "\n",
       "  EXTERNAL_SERVICE_TYPE                                       EXTERNAL_URL  \\\n",
       "0          YELLOW_PAGES  http://www.yellowpages.com/corning-ny/mip/new-...   \n",
       "1          YELLOW_PAGES  http://www.yellowpages.com/corning-ny/mip/new-...   \n",
       "2          YELLOW_PAGES  http://www.yellowpages.com/corning-ny/mip/new-...   \n",
       "3          YELLOW_PAGES  http://www.yellowpages.com/corning-ny/mip/new-...   \n",
       "4          YELLOW_PAGES  http://www.yellowpages.com/corning-ny/mip/new-...   \n",
       "\n",
       "                RANDOM LABEL            event_timestamp  \\\n",
       "0 -9223370807250347779     0 2021-09-13 14:56:12.644761   \n",
       "1 -9223370807250347779     0 2021-09-13 14:56:12.644761   \n",
       "2 -9223370807250347779     0 2021-09-13 14:56:12.644761   \n",
       "3 -9223370807250347779     0 2021-09-13 14:56:12.644761   \n",
       "4 -9223370807250347779     0 2021-09-13 14:56:12.644761   \n",
       "\n",
       "                     created  \n",
       "0 2021-09-13 14:56:12.646444  \n",
       "1 2021-09-13 14:56:12.646444  \n",
       "2 2021-09-13 14:56:12.646444  \n",
       "3 2021-09-13 14:56:12.646444  \n",
       "4 2021-09-13 14:56:12.646444  \n",
       "\n",
       "[5 rows x 30 columns]"
      ]
     },
     "execution_count": 35,
     "metadata": {},
     "output_type": "execute_result"
    }
   ],
   "source": [
    "sds_raw_df.head(5)"
   ]
  },
  {
   "cell_type": "code",
   "execution_count": 36,
   "metadata": {},
   "outputs": [],
   "source": [
    "sds_raw_df=sds_raw_df.drop(columns=['PROFILE_ID_2','PROFILE_WEBSITE_URL','BUSINESS_LAT','PROFILE_EXTERNAL_ID','EXTERNAL_SERVICE_TYPE','EXTERNAL_URL','BUSINESS_LON','RANDOM','ELASTICSEARCH_SCORE','BUSINESS_LOCATION_ID','PROFILE_LATITUDE','PROFILE_LONGITUDE'], axis=1)"
   ]
  },
  {
   "cell_type": "code",
   "execution_count": 37,
   "metadata": {},
   "outputs": [],
   "source": [
    "sds_raw_df['city'] = sds_raw_df['BUSINESS_CITY'].str.lower() == sds_raw_df['PROFILE_CITY'].str.lower()\n",
    "sds_raw_df['city'] = sds_raw_df['city'].astype(int)"
   ]
  },
  {
   "cell_type": "code",
   "execution_count": 38,
   "metadata": {},
   "outputs": [],
   "source": [
    "sds_raw_df['state'] = sds_raw_df['BUSINESS_STATE'].str.lower() == sds_raw_df['PROFILE_STATE_CODE'].str.lower()\n",
    "sds_raw_df['state'] = sds_raw_df['state'].astype(int)"
   ]
  },
  {
   "cell_type": "code",
   "execution_count": 39,
   "metadata": {},
   "outputs": [],
   "source": [
    "#data lean up\n",
    "sds_raw_df['BUSINESS_ZIP'] = sds_raw_df['BUSINESS_ZIPCODE'].str[:5]\n",
    "sds_raw_df['PROFILE_ZIP'] = sds_raw_df['PROFILE_ZIP_CODE'].apply(str)\n",
    "#feature generate\n",
    "sds_raw_df['zip_code'] = sds_raw_df['BUSINESS_ZIP']== sds_raw_df['PROFILE_ZIP']\n",
    "sds_raw_df['zip_code'] = sds_raw_df['zip_code'].astype(int)"
   ]
  },
  {
   "cell_type": "code",
   "execution_count": 40,
   "metadata": {},
   "outputs": [
    {
     "data": {
      "text/html": [
       "<div>\n",
       "<style scoped>\n",
       "    .dataframe tbody tr th:only-of-type {\n",
       "        vertical-align: middle;\n",
       "    }\n",
       "\n",
       "    .dataframe tbody tr th {\n",
       "        vertical-align: top;\n",
       "    }\n",
       "\n",
       "    .dataframe thead th {\n",
       "        text-align: right;\n",
       "    }\n",
       "</style>\n",
       "<table border=\"1\" class=\"dataframe\">\n",
       "  <thead>\n",
       "    <tr style=\"text-align: right;\">\n",
       "      <th></th>\n",
       "      <th>ROW_ID</th>\n",
       "      <th>BUSINESS_NAME</th>\n",
       "      <th>BUSINESS_ADDRESS</th>\n",
       "      <th>BUSINESS_CITY</th>\n",
       "      <th>BUSINESS_STATE</th>\n",
       "      <th>BUSINESS_ZIPCODE</th>\n",
       "      <th>BUSINESS_PHONE</th>\n",
       "      <th>PROFILE_ID</th>\n",
       "      <th>PROFILE_NAME</th>\n",
       "      <th>PROFILE_ADDRESS_1</th>\n",
       "      <th>...</th>\n",
       "      <th>PROFILE_ZIP_CODE</th>\n",
       "      <th>PROFILE_PHONE</th>\n",
       "      <th>LABEL</th>\n",
       "      <th>event_timestamp</th>\n",
       "      <th>created</th>\n",
       "      <th>city</th>\n",
       "      <th>state</th>\n",
       "      <th>BUSINESS_ZIP</th>\n",
       "      <th>PROFILE_ZIP</th>\n",
       "      <th>zip_code</th>\n",
       "    </tr>\n",
       "  </thead>\n",
       "  <tbody>\n",
       "    <tr>\n",
       "      <th>0</th>\n",
       "      <td>0</td>\n",
       "      <td>New York State West Youth</td>\n",
       "      <td>11397 Lpga Dr</td>\n",
       "      <td>Corning</td>\n",
       "      <td>NY</td>\n",
       "      <td>14830</td>\n",
       "      <td>+16079629923</td>\n",
       "      <td>-9069183504506314117</td>\n",
       "      <td>New York State West Youth Soc</td>\n",
       "      <td>41 Riverside Dr</td>\n",
       "      <td>...</td>\n",
       "      <td>14830</td>\n",
       "      <td>6079629923</td>\n",
       "      <td>0</td>\n",
       "      <td>2021-09-13 14:56:12.644761</td>\n",
       "      <td>2021-09-13 14:56:12.646444</td>\n",
       "      <td>1</td>\n",
       "      <td>1</td>\n",
       "      <td>14830</td>\n",
       "      <td>14830</td>\n",
       "      <td>1</td>\n",
       "    </tr>\n",
       "    <tr>\n",
       "      <th>1</th>\n",
       "      <td>1</td>\n",
       "      <td>NEW YORK STATE WEST YOUTH INTERN</td>\n",
       "      <td>11397 LPGA DRIVE</td>\n",
       "      <td>CORNING</td>\n",
       "      <td>NY</td>\n",
       "      <td>14830</td>\n",
       "      <td>6079629923</td>\n",
       "      <td>-9069183504506314117</td>\n",
       "      <td>New York State West Youth Soc</td>\n",
       "      <td>41 Riverside Dr</td>\n",
       "      <td>...</td>\n",
       "      <td>14830</td>\n",
       "      <td>6079629923</td>\n",
       "      <td>0</td>\n",
       "      <td>2021-09-13 14:56:12.644761</td>\n",
       "      <td>2021-09-13 14:56:12.646444</td>\n",
       "      <td>1</td>\n",
       "      <td>1</td>\n",
       "      <td>14830</td>\n",
       "      <td>14830</td>\n",
       "      <td>1</td>\n",
       "    </tr>\n",
       "    <tr>\n",
       "      <th>2</th>\n",
       "      <td>2</td>\n",
       "      <td>NEW YORK STATE WEST YOUTH MOTO</td>\n",
       "      <td>11397 LPGA DR</td>\n",
       "      <td>CORNING</td>\n",
       "      <td>NY</td>\n",
       "      <td>14830</td>\n",
       "      <td>6079629923</td>\n",
       "      <td>-9069183504506314117</td>\n",
       "      <td>New York State West Youth Soc</td>\n",
       "      <td>41 Riverside Dr</td>\n",
       "      <td>...</td>\n",
       "      <td>14830</td>\n",
       "      <td>6079629923</td>\n",
       "      <td>0</td>\n",
       "      <td>2021-09-13 14:56:12.644761</td>\n",
       "      <td>2021-09-13 14:56:12.646444</td>\n",
       "      <td>1</td>\n",
       "      <td>1</td>\n",
       "      <td>14830</td>\n",
       "      <td>14830</td>\n",
       "      <td>1</td>\n",
       "    </tr>\n",
       "    <tr>\n",
       "      <th>3</th>\n",
       "      <td>3</td>\n",
       "      <td>New York State Fish Hatchery</td>\n",
       "      <td>7169 Fish Hatchery Rd</td>\n",
       "      <td>Bath</td>\n",
       "      <td>NY</td>\n",
       "      <td>14810</td>\n",
       "      <td>+16077767087</td>\n",
       "      <td>-9069183504506314117</td>\n",
       "      <td>New York State West Youth Soc</td>\n",
       "      <td>41 Riverside Dr</td>\n",
       "      <td>...</td>\n",
       "      <td>14830</td>\n",
       "      <td>6079629923</td>\n",
       "      <td>0</td>\n",
       "      <td>2021-09-13 14:56:12.644761</td>\n",
       "      <td>2021-09-13 14:56:12.646444</td>\n",
       "      <td>0</td>\n",
       "      <td>1</td>\n",
       "      <td>14810</td>\n",
       "      <td>14830</td>\n",
       "      <td>0</td>\n",
       "    </tr>\n",
       "    <tr>\n",
       "      <th>4</th>\n",
       "      <td>4</td>\n",
       "      <td>New York State United Teachers</td>\n",
       "      <td>100 W Church St # 200</td>\n",
       "      <td>Elmira</td>\n",
       "      <td>NY</td>\n",
       "      <td>14901</td>\n",
       "      <td>+16077321928</td>\n",
       "      <td>-9069183504506314117</td>\n",
       "      <td>New York State West Youth Soc</td>\n",
       "      <td>41 Riverside Dr</td>\n",
       "      <td>...</td>\n",
       "      <td>14830</td>\n",
       "      <td>6079629923</td>\n",
       "      <td>0</td>\n",
       "      <td>2021-09-13 14:56:12.644761</td>\n",
       "      <td>2021-09-13 14:56:12.646444</td>\n",
       "      <td>0</td>\n",
       "      <td>1</td>\n",
       "      <td>14901</td>\n",
       "      <td>14830</td>\n",
       "      <td>0</td>\n",
       "    </tr>\n",
       "  </tbody>\n",
       "</table>\n",
       "<p>5 rows × 23 columns</p>\n",
       "</div>"
      ],
      "text/plain": [
       "   ROW_ID                     BUSINESS_NAME       BUSINESS_ADDRESS  \\\n",
       "0       0         New York State West Youth          11397 Lpga Dr   \n",
       "1       1  NEW YORK STATE WEST YOUTH INTERN       11397 LPGA DRIVE   \n",
       "2       2    NEW YORK STATE WEST YOUTH MOTO          11397 LPGA DR   \n",
       "3       3      New York State Fish Hatchery  7169 Fish Hatchery Rd   \n",
       "4       4    New York State United Teachers  100 W Church St # 200   \n",
       "\n",
       "  BUSINESS_CITY BUSINESS_STATE BUSINESS_ZIPCODE BUSINESS_PHONE  \\\n",
       "0       Corning             NY            14830   +16079629923   \n",
       "1       CORNING             NY            14830     6079629923   \n",
       "2       CORNING             NY            14830     6079629923   \n",
       "3          Bath             NY            14810   +16077767087   \n",
       "4        Elmira             NY            14901   +16077321928   \n",
       "\n",
       "            PROFILE_ID                   PROFILE_NAME PROFILE_ADDRESS_1  ...  \\\n",
       "0 -9069183504506314117  New York State West Youth Soc   41 Riverside Dr  ...   \n",
       "1 -9069183504506314117  New York State West Youth Soc   41 Riverside Dr  ...   \n",
       "2 -9069183504506314117  New York State West Youth Soc   41 Riverside Dr  ...   \n",
       "3 -9069183504506314117  New York State West Youth Soc   41 Riverside Dr  ...   \n",
       "4 -9069183504506314117  New York State West Youth Soc   41 Riverside Dr  ...   \n",
       "\n",
       "   PROFILE_ZIP_CODE PROFILE_PHONE LABEL            event_timestamp  \\\n",
       "0             14830    6079629923     0 2021-09-13 14:56:12.644761   \n",
       "1             14830    6079629923     0 2021-09-13 14:56:12.644761   \n",
       "2             14830    6079629923     0 2021-09-13 14:56:12.644761   \n",
       "3             14830    6079629923     0 2021-09-13 14:56:12.644761   \n",
       "4             14830    6079629923     0 2021-09-13 14:56:12.644761   \n",
       "\n",
       "                     created  city state BUSINESS_ZIP  PROFILE_ZIP  zip_code  \n",
       "0 2021-09-13 14:56:12.646444     1     1        14830        14830         1  \n",
       "1 2021-09-13 14:56:12.646444     1     1        14830        14830         1  \n",
       "2 2021-09-13 14:56:12.646444     1     1        14830        14830         1  \n",
       "3 2021-09-13 14:56:12.646444     0     1        14810        14830         0  \n",
       "4 2021-09-13 14:56:12.646444     0     1        14901        14830         0  \n",
       "\n",
       "[5 rows x 23 columns]"
      ]
     },
     "execution_count": 40,
     "metadata": {},
     "output_type": "execute_result"
    }
   ],
   "source": [
    "sds_raw_df.head(5)"
   ]
  },
  {
   "cell_type": "code",
   "execution_count": 41,
   "metadata": {},
   "outputs": [],
   "source": [
    "df = sds_raw_df[['BUSINESS_NAME','BUSINESS_ADDRESS','BUSINESS_CITY','ROW_ID','city','state','zip_code','event_timestamp','created']]"
   ]
  },
  {
   "cell_type": "code",
   "execution_count": 42,
   "metadata": {},
   "outputs": [],
   "source": [
    "df.to_parquet('./data/business_profile.parquet')"
   ]
  },
  {
   "cell_type": "code",
   "execution_count": 43,
   "metadata": {},
   "outputs": [
    {
     "data": {
      "text/html": [
       "<div>\n",
       "<style scoped>\n",
       "    .dataframe tbody tr th:only-of-type {\n",
       "        vertical-align: middle;\n",
       "    }\n",
       "\n",
       "    .dataframe tbody tr th {\n",
       "        vertical-align: top;\n",
       "    }\n",
       "\n",
       "    .dataframe thead th {\n",
       "        text-align: right;\n",
       "    }\n",
       "</style>\n",
       "<table border=\"1\" class=\"dataframe\">\n",
       "  <thead>\n",
       "    <tr style=\"text-align: right;\">\n",
       "      <th></th>\n",
       "      <th>BUSINESS_NAME</th>\n",
       "      <th>BUSINESS_ADDRESS</th>\n",
       "      <th>BUSINESS_CITY</th>\n",
       "      <th>ROW_ID</th>\n",
       "      <th>city</th>\n",
       "      <th>state</th>\n",
       "      <th>zip_code</th>\n",
       "      <th>event_timestamp</th>\n",
       "      <th>created</th>\n",
       "    </tr>\n",
       "  </thead>\n",
       "  <tbody>\n",
       "    <tr>\n",
       "      <th>0</th>\n",
       "      <td>New York State West Youth</td>\n",
       "      <td>11397 Lpga Dr</td>\n",
       "      <td>Corning</td>\n",
       "      <td>0</td>\n",
       "      <td>1</td>\n",
       "      <td>1</td>\n",
       "      <td>1</td>\n",
       "      <td>2021-09-13 14:56:12.644761</td>\n",
       "      <td>2021-09-13 14:56:12.646444</td>\n",
       "    </tr>\n",
       "    <tr>\n",
       "      <th>1</th>\n",
       "      <td>NEW YORK STATE WEST YOUTH INTERN</td>\n",
       "      <td>11397 LPGA DRIVE</td>\n",
       "      <td>CORNING</td>\n",
       "      <td>1</td>\n",
       "      <td>1</td>\n",
       "      <td>1</td>\n",
       "      <td>1</td>\n",
       "      <td>2021-09-13 14:56:12.644761</td>\n",
       "      <td>2021-09-13 14:56:12.646444</td>\n",
       "    </tr>\n",
       "    <tr>\n",
       "      <th>2</th>\n",
       "      <td>NEW YORK STATE WEST YOUTH MOTO</td>\n",
       "      <td>11397 LPGA DR</td>\n",
       "      <td>CORNING</td>\n",
       "      <td>2</td>\n",
       "      <td>1</td>\n",
       "      <td>1</td>\n",
       "      <td>1</td>\n",
       "      <td>2021-09-13 14:56:12.644761</td>\n",
       "      <td>2021-09-13 14:56:12.646444</td>\n",
       "    </tr>\n",
       "    <tr>\n",
       "      <th>3</th>\n",
       "      <td>New York State Fish Hatchery</td>\n",
       "      <td>7169 Fish Hatchery Rd</td>\n",
       "      <td>Bath</td>\n",
       "      <td>3</td>\n",
       "      <td>0</td>\n",
       "      <td>1</td>\n",
       "      <td>0</td>\n",
       "      <td>2021-09-13 14:56:12.644761</td>\n",
       "      <td>2021-09-13 14:56:12.646444</td>\n",
       "    </tr>\n",
       "    <tr>\n",
       "      <th>4</th>\n",
       "      <td>New York State United Teachers</td>\n",
       "      <td>100 W Church St # 200</td>\n",
       "      <td>Elmira</td>\n",
       "      <td>4</td>\n",
       "      <td>0</td>\n",
       "      <td>1</td>\n",
       "      <td>0</td>\n",
       "      <td>2021-09-13 14:56:12.644761</td>\n",
       "      <td>2021-09-13 14:56:12.646444</td>\n",
       "    </tr>\n",
       "    <tr>\n",
       "      <th>...</th>\n",
       "      <td>...</td>\n",
       "      <td>...</td>\n",
       "      <td>...</td>\n",
       "      <td>...</td>\n",
       "      <td>...</td>\n",
       "      <td>...</td>\n",
       "      <td>...</td>\n",
       "      <td>...</td>\n",
       "      <td>...</td>\n",
       "    </tr>\n",
       "    <tr>\n",
       "      <th>28709</th>\n",
       "      <td>Samuel Mayeda, MD</td>\n",
       "      <td>1140 W La Veta Ave Ste 420</td>\n",
       "      <td>Orange</td>\n",
       "      <td>28709</td>\n",
       "      <td>0</td>\n",
       "      <td>1</td>\n",
       "      <td>0</td>\n",
       "      <td>2021-09-13 14:56:12.644761</td>\n",
       "      <td>2021-09-13 14:56:12.646444</td>\n",
       "    </tr>\n",
       "    <tr>\n",
       "      <th>28710</th>\n",
       "      <td>Mayeda Samuel MD</td>\n",
       "      <td>1140 W La Veta Ave Ste 420</td>\n",
       "      <td>Orange</td>\n",
       "      <td>28710</td>\n",
       "      <td>0</td>\n",
       "      <td>1</td>\n",
       "      <td>0</td>\n",
       "      <td>2021-09-13 14:56:12.644761</td>\n",
       "      <td>2021-09-13 14:56:12.646444</td>\n",
       "    </tr>\n",
       "    <tr>\n",
       "      <th>28711</th>\n",
       "      <td>SAMUEL A SILAO MD</td>\n",
       "      <td>2557 CHINO HILLS PKWY STE A</td>\n",
       "      <td>CHINO HILLS</td>\n",
       "      <td>28711</td>\n",
       "      <td>0</td>\n",
       "      <td>1</td>\n",
       "      <td>0</td>\n",
       "      <td>2021-09-13 14:56:12.644761</td>\n",
       "      <td>2021-09-13 14:56:12.646444</td>\n",
       "    </tr>\n",
       "    <tr>\n",
       "      <th>28712</th>\n",
       "      <td>Samuel S Galley MD</td>\n",
       "      <td>Suite D</td>\n",
       "      <td>Fountain Valley</td>\n",
       "      <td>28712</td>\n",
       "      <td>0</td>\n",
       "      <td>1</td>\n",
       "      <td>0</td>\n",
       "      <td>2021-09-13 14:56:12.644761</td>\n",
       "      <td>2021-09-13 14:56:12.646444</td>\n",
       "    </tr>\n",
       "    <tr>\n",
       "      <th>28713</th>\n",
       "      <td>Hair Designs By R &amp; R</td>\n",
       "      <td>3129 NC-111</td>\n",
       "      <td>Tarboro</td>\n",
       "      <td>28713</td>\n",
       "      <td>1</td>\n",
       "      <td>1</td>\n",
       "      <td>1</td>\n",
       "      <td>2021-09-13 14:56:12.644761</td>\n",
       "      <td>2021-09-13 14:56:12.646444</td>\n",
       "    </tr>\n",
       "  </tbody>\n",
       "</table>\n",
       "<p>28714 rows × 9 columns</p>\n",
       "</div>"
      ],
      "text/plain": [
       "                          BUSINESS_NAME             BUSINESS_ADDRESS  \\\n",
       "0             New York State West Youth                11397 Lpga Dr   \n",
       "1      NEW YORK STATE WEST YOUTH INTERN             11397 LPGA DRIVE   \n",
       "2        NEW YORK STATE WEST YOUTH MOTO                11397 LPGA DR   \n",
       "3          New York State Fish Hatchery        7169 Fish Hatchery Rd   \n",
       "4        New York State United Teachers        100 W Church St # 200   \n",
       "...                                 ...                          ...   \n",
       "28709                 Samuel Mayeda, MD   1140 W La Veta Ave Ste 420   \n",
       "28710                  Mayeda Samuel MD   1140 W La Veta Ave Ste 420   \n",
       "28711                 SAMUEL A SILAO MD  2557 CHINO HILLS PKWY STE A   \n",
       "28712                Samuel S Galley MD                      Suite D   \n",
       "28713             Hair Designs By R & R                  3129 NC-111   \n",
       "\n",
       "         BUSINESS_CITY  ROW_ID  city  state  zip_code  \\\n",
       "0              Corning       0     1      1         1   \n",
       "1              CORNING       1     1      1         1   \n",
       "2              CORNING       2     1      1         1   \n",
       "3                 Bath       3     0      1         0   \n",
       "4               Elmira       4     0      1         0   \n",
       "...                ...     ...   ...    ...       ...   \n",
       "28709           Orange   28709     0      1         0   \n",
       "28710           Orange   28710     0      1         0   \n",
       "28711      CHINO HILLS   28711     0      1         0   \n",
       "28712  Fountain Valley   28712     0      1         0   \n",
       "28713          Tarboro   28713     1      1         1   \n",
       "\n",
       "                 event_timestamp                    created  \n",
       "0     2021-09-13 14:56:12.644761 2021-09-13 14:56:12.646444  \n",
       "1     2021-09-13 14:56:12.644761 2021-09-13 14:56:12.646444  \n",
       "2     2021-09-13 14:56:12.644761 2021-09-13 14:56:12.646444  \n",
       "3     2021-09-13 14:56:12.644761 2021-09-13 14:56:12.646444  \n",
       "4     2021-09-13 14:56:12.644761 2021-09-13 14:56:12.646444  \n",
       "...                          ...                        ...  \n",
       "28709 2021-09-13 14:56:12.644761 2021-09-13 14:56:12.646444  \n",
       "28710 2021-09-13 14:56:12.644761 2021-09-13 14:56:12.646444  \n",
       "28711 2021-09-13 14:56:12.644761 2021-09-13 14:56:12.646444  \n",
       "28712 2021-09-13 14:56:12.644761 2021-09-13 14:56:12.646444  \n",
       "28713 2021-09-13 14:56:12.644761 2021-09-13 14:56:12.646444  \n",
       "\n",
       "[28714 rows x 9 columns]"
      ]
     },
     "execution_count": 43,
     "metadata": {},
     "output_type": "execute_result"
    }
   ],
   "source": [
    "pd.read_parquet('./data/business_profile.parquet')"
   ]
  },
  {
   "cell_type": "markdown",
   "metadata": {},
   "source": [
    "### Create a new FeatureView"
   ]
  },
  {
   "cell_type": "markdown",
   "metadata": {},
   "source": [
    "### Read data from parquet files. Parquet is convenient for local development mode. For production, you can use your favorite DWH, such as SnowFlake. \n"
   ]
  },
  {
   "cell_type": "code",
   "execution_count": 44,
   "metadata": {},
   "outputs": [],
   "source": [
    "profile_stats = FileSource(\n",
    "    path=\"/Users/pradeeppujari/projects/feast/examples/business_matching_repo/data/business_profile.parquet\",\n",
    "    event_timestamp_column=\"event_timestamp\",\n",
    "    created_timestamp_column=\"created\",\n",
    ")"
   ]
  },
  {
   "cell_type": "markdown",
   "metadata": {},
   "source": [
    "### Define an entity for the driver. You can think of entity as a primary key used to fetch features.\n"
   ]
  },
  {
   "cell_type": "code",
   "execution_count": 45,
   "metadata": {},
   "outputs": [],
   "source": [
    "business_entity = Entity(name=\"ROW_ID\", value_type=ValueType.INT64, description=\"profile\",)"
   ]
  },
  {
   "cell_type": "code",
   "execution_count": 46,
   "metadata": {},
   "outputs": [],
   "source": [
    "profile_stats_view = FeatureView(\n",
    "    name=\"profile_stats\",\n",
    "    entities=[\"ROW_ID\"],\n",
    "    ttl=Duration(seconds=86400 * 1),\n",
    "    features=[\n",
    "        Feature(name=\"BUSINESS_NAME\", dtype=ValueType.STRING),\n",
    "        Feature(name=\"BUSINESS_ADDRESS\", dtype=ValueType.STRING),\n",
    "        Feature(name=\"BUSINESS_CITY\", dtype=ValueType.STRING),\n",
    "        Feature(name=\"city\", dtype=ValueType.STRING),\n",
    "        Feature(name=\"state\", dtype=ValueType.STRING),\n",
    "        Feature(name=\"zip_code\", dtype=ValueType.STRING),\n",
    "    ],\n",
    "    online=True,\n",
    "    batch_source=profile_stats,\n",
    "    tags={},\n",
    ")\n"
   ]
  },
  {
   "cell_type": "code",
   "execution_count": 47,
   "metadata": {},
   "outputs": [
    {
     "name": "stdout",
     "output_type": "stream",
     "text": [
      "Registered entity \u001b[1m\u001b[32mROW_ID\u001b[0m\r\n",
      "Registered feature view \u001b[1m\u001b[32mprofile_stats\u001b[0m\r\n",
      "Deploying infrastructure for \u001b[1m\u001b[32mprofile_stats\u001b[0m\r\n"
     ]
    }
   ],
   "source": [
    "!feast apply"
   ]
  },
  {
   "cell_type": "markdown",
   "metadata": {},
   "source": [
    "### Generate training data"
   ]
  },
  {
   "cell_type": "code",
   "execution_count": 51,
   "metadata": {},
   "outputs": [
    {
     "name": "stdout",
     "output_type": "stream",
     "text": [
      "----- Feature schema -----\n",
      "\n",
      "<class 'pandas.core.frame.DataFrame'>\n",
      "Int64Index: 4 entries, 0 to 3\n",
      "Data columns (total 8 columns):\n",
      " #   Column            Non-Null Count  Dtype              \n",
      "---  ------            --------------  -----              \n",
      " 0   event_timestamp   4 non-null      datetime64[ns, UTC]\n",
      " 1   ROW_ID            4 non-null      int64              \n",
      " 2   BUSINESS_NAME     4 non-null      object             \n",
      " 3   BUSINESS_ADDRESS  4 non-null      object             \n",
      " 4   BUSINESS_CITY     4 non-null      object             \n",
      " 5   city              4 non-null      int64              \n",
      " 6   state             4 non-null      int64              \n",
      " 7   zip_code          4 non-null      int64              \n",
      "dtypes: datetime64[ns, UTC](1), int64(4), object(3)\n",
      "memory usage: 288.0+ bytes\n",
      "None\n",
      "\n",
      "----- Example features -----\n",
      "\n",
      "                   event_timestamp  ROW_ID  \\\n",
      "0 2021-09-13 15:04:33.684508+00:00       4   \n",
      "1 2021-09-13 15:04:33.684509+00:00       7   \n",
      "2 2021-09-13 15:06:33.684505+00:00       2   \n",
      "3 2021-09-13 15:07:33.684485+00:00       0   \n",
      "\n",
      "                                       BUSINESS_NAME       BUSINESS_ADDRESS  \\\n",
      "0                     New York State United Teachers  100 W Church St # 200   \n",
      "1  New York State Academy of Fire Science & Fire ...        600 College Ave   \n",
      "2                     NEW YORK STATE WEST YOUTH MOTO          11397 LPGA DR   \n",
      "3                          New York State West Youth          11397 Lpga Dr   \n",
      "\n",
      "   BUSINESS_CITY  city  state  zip_code  \n",
      "0         Elmira     0      1         0  \n",
      "1  Montour Falls     0      1         0  \n",
      "2        CORNING     1      1         1  \n",
      "3        Corning     1      1         1  \n"
     ]
    }
   ],
   "source": [
    "# The entity dataframe is the dataframe we want to enrich with feature values\n",
    "entity_df = pd.DataFrame.from_dict(\n",
    "    {\n",
    "        \"ROW_ID\": [0, 2, 4, 7],\n",
    "        \"event_timestamp\": [\n",
    "            datetime.now() - timedelta(minutes=0),\n",
    "            datetime.now() - timedelta(minutes=1),\n",
    "            datetime.now() - timedelta(minutes=3),\n",
    "            datetime.now() - timedelta(minutes=3),\n",
    "        ],\n",
    "    }\n",
    ")\n",
    "\n",
    "store = FeatureStore(repo_path=\".\")\n",
    "\n",
    "training_df = store.get_historical_features(\n",
    "    entity_df=entity_df,\n",
    "    features=[\n",
    "        \"profile_stats:BUSINESS_NAME\",\n",
    "        \"profile_stats:BUSINESS_ADDRESS\",\n",
    "        \"profile_stats:BUSINESS_CITY\",\n",
    "        \"profile_stats:city\",\n",
    "        \"profile_stats:state\",\n",
    "        \"profile_stats:zip_code\",\n",
    "    ],\n",
    ").to_df()\n",
    "\n",
    "print(\"----- Feature schema -----\\n\")\n",
    "print(training_df.info())\n",
    "\n",
    "print()\n",
    "print(\"----- Example features -----\\n\")\n",
    "print(training_df.head())"
   ]
  },
  {
   "cell_type": "markdown",
   "metadata": {},
   "source": [
    "### Model fit code here"
   ]
  },
  {
   "cell_type": "markdown",
   "metadata": {},
   "source": [
    "### Step 5: Load features into your online store\n",
    "\n",
    "We now serialize the latest values of features since the beginning of time to prepare for serving (note: materialize-incremental serializes all new features since the last materialize call)."
   ]
  },
  {
   "cell_type": "code",
   "execution_count": 49,
   "metadata": {},
   "outputs": [
    {
     "name": "stdout",
     "output_type": "stream",
     "text": [
      "Materializing \u001b[1m\u001b[32m1\u001b[0m feature views to \u001b[1m\u001b[32m2021-09-13 08:01:17-07:00\u001b[0m into the \u001b[1m\u001b[32msqlite\u001b[0m online store.\n",
      "\n",
      "\u001b[1m\u001b[32mprofile_stats\u001b[0m from \u001b[1m\u001b[32m2021-09-13 06:41:43-07:00\u001b[0m to \u001b[1m\u001b[32m2021-09-13 08:01:17-07:00\u001b[0m:\n",
      "100%|███████████████████████████████████████████████████████| 28714/28714 [00:06<00:00, 4681.00it/s]\n"
     ]
    }
   ],
   "source": [
    "!feast materialize-incremental {datetime.now().isoformat()}"
   ]
  },
  {
   "cell_type": "markdown",
   "metadata": {},
   "source": [
    "### Step 5b: Inspect materialized features\n",
    "Note that now there are online_store.db and registry.db, which store the materialized features and schema information, respectively."
   ]
  },
  {
   "cell_type": "code",
   "execution_count": 50,
   "metadata": {},
   "outputs": [
    {
     "name": "stdout",
     "output_type": "stream",
     "text": [
      "--- Data directory ---\n",
      "business_profile.parquet online_store.db          registry.db\n",
      "\n",
      "--- Schema of online store ---\n",
      "['entity_key', 'feature_name', 'value', 'event_ts', 'created_ts']\n"
     ]
    }
   ],
   "source": [
    "print(\"--- Data directory ---\")\n",
    "!ls data\n",
    "\n",
    "import sqlite3\n",
    "import pandas as pd\n",
    "con = sqlite3.connect(\"data/online_store.db\")\n",
    "print(\"\\n--- Schema of online store ---\")\n",
    "print(\n",
    "    pd.read_sql_query(\n",
    "        \"select * FROM business_matching_repo_profile_stats\", con).columns.tolist())\n",
    "con.close()"
   ]
  },
  {
   "cell_type": "markdown",
   "metadata": {},
   "source": [
    "### Predict"
   ]
  },
  {
   "cell_type": "code",
   "execution_count": null,
   "metadata": {},
   "outputs": [],
   "source": []
  },
  {
   "cell_type": "code",
   "execution_count": null,
   "metadata": {},
   "outputs": [],
   "source": []
  },
  {
   "cell_type": "markdown",
   "metadata": {
    "id": "lg68gH2sy6H1"
   },
   "source": [
    "# Next steps\n",
    "\n",
    "### connect to the snowflake business entity data\n",
    "### Direct connectivity training evaluation platform"
   ]
  },
  {
   "cell_type": "code",
   "execution_count": null,
   "metadata": {},
   "outputs": [],
   "source": []
  }
 ],
 "metadata": {
  "colab": {
   "collapsed_sections": [],
   "name": "Feast Codelab",
   "provenance": []
  },
  "kernelspec": {
   "display_name": "Python 3 (ipykernel)",
   "language": "python",
   "name": "python3"
  },
  "language_info": {
   "codemirror_mode": {
    "name": "ipython",
    "version": 3
   },
   "file_extension": ".py",
   "mimetype": "text/x-python",
   "name": "python",
   "nbconvert_exporter": "python",
   "pygments_lexer": "ipython3",
   "version": "3.7.11"
  }
 },
 "nbformat": 4,
 "nbformat_minor": 1
}
