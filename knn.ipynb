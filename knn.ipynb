{
 "cells": [
  {
   "cell_type": "markdown",
   "metadata": {},
   "source": [
    "### KNN with iris dataset\n",
    "This data sets consists of 3 different types of irises’ (Setosa, Versicolour, and Virginica) petal and sepal length, stored in a 150x4 numpy.ndarray\n",
    "\n",
    "The rows being the samples and the columns being: Sepal Length, Sepal Width, Petal Length and Petal Width."
   ]
  },
  {
   "cell_type": "code",
   "execution_count": 202,
   "metadata": {},
   "outputs": [
    {
     "name": "stdout",
     "output_type": "stream",
     "text": [
      "['sepal length (cm)', 'sepal width (cm)', 'petal length (cm)', 'petal width (cm)']\n"
     ]
    }
   ],
   "source": [
    "import random\n",
    "import math\n",
    "import operator\n",
    "from sklearn.datasets import load_iris\n",
    "from sklearn.metrics import accuracy_score\n",
    "\n",
    "iris_data = load_iris()\n",
    "print(iris_data.feature_names)"
   ]
  },
  {
   "cell_type": "code",
   "execution_count": 203,
   "metadata": {},
   "outputs": [
    {
     "name": "stdout",
     "output_type": "stream",
     "text": [
      "(150, 4)\n"
     ]
    }
   ],
   "source": [
    "# Print number of samples\n",
    "\n",
    "print(iris_data.data.shape)"
   ]
  },
  {
   "cell_type": "code",
   "execution_count": 204,
   "metadata": {},
   "outputs": [],
   "source": [
    "X = iris_data.data\n",
    "y = iris_data.target"
   ]
  },
  {
   "cell_type": "code",
   "execution_count": 205,
   "metadata": {},
   "outputs": [],
   "source": [
    "def euclidean_distance(training_instance, test_instance):\n",
    "    \"\"\"\n",
    "    calculates distance between two points\n",
    "\n",
    "    Parameters:\n",
    "           training_instance: is a numeric feature list - training instance\n",
    "           test_instance: point is a numeric feature list - test instance\n",
    "    Returns:\n",
    "          distance in float\n",
    "   \"\"\"\n",
    "    \n",
    "    distance = 0\n",
    "    for index in range(len(training_instance)):\n",
    "        distance += pow(test_instance[index] - training_instance[index],2)\n",
    "    return math.sqrt(distance)   \n",
    "    "
   ]
  },
  {
   "cell_type": "code",
   "execution_count": null,
   "metadata": {},
   "outputs": [],
   "source": []
  },
  {
   "cell_type": "code",
   "execution_count": 206,
   "metadata": {},
   "outputs": [
    {
     "data": {
      "text/plain": [
       "1.4142135623730951"
      ]
     },
     "execution_count": 206,
     "metadata": {},
     "output_type": "execute_result"
    }
   ],
   "source": [
    "# Euclidean Distance Caculator for testing\n",
    "data1=[2,1]\n",
    "data2=[1,2]\n",
    "euclidean_distance(data1,data2)"
   ]
  },
  {
   "cell_type": "code",
   "execution_count": 207,
   "metadata": {},
   "outputs": [],
   "source": [
    "def get_neighbours(training_data, training_label, test_instance, k=3):\n",
    "    \"\"\"\n",
    "    calculates distance between two points\n",
    "\n",
    "    Parameters:\n",
    "           training_data: is a numeric feature list - training instance\n",
    "           test_instance: point is a numeric feature list - test instance\n",
    "    Returns:\n",
    "          distance in float\n",
    "   \"\"\"\n",
    "\n",
    "    distances = []\n",
    "    for x in range(len(training_data)):\n",
    "        training_instance = training_data[x].copy()\n",
    "        distance = euclidean_distance(training_instance, test_instance)\n",
    "        training_instance.extend((training_label[x],distance))\n",
    "        distances.append(training_instance) \n",
    "\n",
    "    distances.sort(key=operator.itemgetter(5), reverse=False) \n",
    "    return distances[:k]       "
   ]
  },
  {
   "cell_type": "code",
   "execution_count": 208,
   "metadata": {},
   "outputs": [],
   "source": [
    "def predict(neighbours):\n",
    "    prediction = {}\n",
    "    for x in range(len(neighbours)):\n",
    "        response = neighbours[x][-2]\n",
    "        if response in prediction:\n",
    "            prediction[response] += 1\n",
    "        else:\n",
    "            prediction[response] = 1\n",
    "    sorted_votes = sorted(prediction.items(), key=operator.itemgetter(1), reverse=True)\n",
    "    return sorted_votes[0][0]"
   ]
  },
  {
   "cell_type": "code",
   "execution_count": 209,
   "metadata": {},
   "outputs": [],
   "source": [
    "#FOR TESTING the above function\n",
    "#X_train = [[10,10,10], [2,2,2], [40,40,40]]\n",
    "#X_test = [3,3,3]\n",
    "#y_train = ['a', 'b','c']\n",
    "#y_test  = ['b']\n",
    "\n",
    "#neighbors = get_neighbours(X_train, y_train, X_test, 2)\n",
    "#print(type(X))\n",
    "#print(neighbors)\n",
    "\n",
    "#predicted_value = predict(neighbors)\n",
    "#print(predicted_value)\n",
    "#print(X_train )"
   ]
  },
  {
   "cell_type": "markdown",
   "metadata": {
    "collapsed": true
   },
   "source": [
    "# How to apply to iris data\n",
    "### 1. convert numpy ndarray to python list\n",
    "### 2. split to trainging and test set\n",
    "### 3. Measure accuracy"
   ]
  },
  {
   "cell_type": "code",
   "execution_count": 211,
   "metadata": {},
   "outputs": [],
   "source": [
    "feature_set = X.tolist()\n",
    "X_train = []\n",
    "y_train = []\n",
    "X_test = []\n",
    "y_test = []\n",
    "label = y.tolist()\n",
    "split = 0.80\n",
    "for x in range(len(X)):\n",
    "    if random.random() < split:\n",
    "        X_train.append(feature_set[x])\n",
    "        y_train.append(label[x])\n",
    "    else:\n",
    "        X_test.append(feature_set[x])\n",
    "        y_test.append(label[x])\n"
   ]
  },
  {
   "cell_type": "code",
   "execution_count": 219,
   "metadata": {},
   "outputs": [
    {
     "data": {
      "text/plain": [
       "1.0"
      ]
     },
     "execution_count": 219,
     "metadata": {},
     "output_type": "execute_result"
    }
   ],
   "source": [
    "y_pred = []\n",
    "for test_index in range(len(X_test)):\n",
    "    neighbors = get_neighbours(X_train, y_train, X_test[test_index], 10)\n",
    "#    print(neighbors)\n",
    "    y_pred.append(predict(neighbors))\n",
    "accuracy_score(y_test, y_pred)"
   ]
  },
  {
   "cell_type": "code",
   "execution_count": 220,
   "metadata": {},
   "outputs": [
    {
     "data": {
      "text/plain": [
       "1.0"
      ]
     },
     "execution_count": 220,
     "metadata": {},
     "output_type": "execute_result"
    }
   ],
   "source": [
    "# KNN from sklearn \n",
    "#Import knearest neighbors Classifier model\n",
    "from sklearn.neighbors import KNeighborsClassifier\n",
    "\n",
    "#Create KNN Classifier\n",
    "knn = KNeighborsClassifier(n_neighbors=5) ## how to determine value of k??\n",
    "\n",
    "#Train the model using the training sets\n",
    "knn.fit(X_train, y_train)\n",
    "\n",
    "#Predict the response for test dataset\n",
    "y_pred = knn.predict(X_test)\n",
    "accuracy_score(y_test, y_pred)"
   ]
  },
  {
   "cell_type": "code",
   "execution_count": null,
   "metadata": {
    "collapsed": true
   },
   "outputs": [],
   "source": []
  }
 ],
 "metadata": {
  "kernelspec": {
   "display_name": "Python 3",
   "language": "python",
   "name": "python3"
  },
  "language_info": {
   "codemirror_mode": {
    "name": "ipython",
    "version": 3
   },
   "file_extension": ".py",
   "mimetype": "text/x-python",
   "name": "python",
   "nbconvert_exporter": "python",
   "pygments_lexer": "ipython3",
   "version": "3.6.7"
  }
 },
 "nbformat": 4,
 "nbformat_minor": 2
}
