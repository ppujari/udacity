{
 "cells": [
  {
   "cell_type": "markdown",
   "id": "1f01839c",
   "metadata": {},
   "source": [
    "Author: Pradeep Pujari\n",
    "\n",
    "Generate imbalanced data set, evaluate a majority class classifier on an 1:100 imbalanced dataset"
   ]
  },
  {
   "cell_type": "code",
   "execution_count": 47,
   "id": "13dd3de5",
   "metadata": {},
   "outputs": [],
   "source": [
    "import numpy as np\n",
    "from sklearn.datasets import make_blobs\n",
    "from sklearn.linear_model import LogisticRegression\n",
    "from sklearn.model_selection import train_test_split\n",
    "from sklearn.model_selection import GridSearchCV\n",
    "from sklearn.model_selection import KFold\n",
    "from sklearn.metrics import accuracy_score\n",
    "from sklearn.metrics import classification_report"
   ]
  },
  {
   "cell_type": "code",
   "execution_count": 78,
   "id": "51936e9a",
   "metadata": {},
   "outputs": [],
   "source": [
    "# create an imbalanced dataset with a given ratio\n",
    "def get_imbalanced_dataset(ratio):\n",
    "    n_classes = len(ratio)  #binary classifier 2 classes\n",
    "    large = max([v for k,v in ratio.items()])\n",
    "    n_samples = large * n_classes\n",
    "    X, y = make_blobs(n_samples=n_samples, centers=n_classes, n_features=2, random_state=42, cluster_std=3, shuffle=True)\n",
    "    # collect the samples\n",
    "    X_list, y_list = list(), list()\n",
    "    for k,v in ratio.items():\n",
    "        row_ix = where(y == k)[0]\n",
    "        selected = row_ix[:v]\n",
    "        X_list.append(X[selected, :])\n",
    "        y_list.append(y[selected])\n",
    "    return vstack(X_list), hstack(y_list)\n"
   ]
  },
  {
   "cell_type": "code",
   "execution_count": 99,
   "id": "628552f7",
   "metadata": {},
   "outputs": [
    {
     "name": "stdout",
     "output_type": "stream",
     "text": [
      "Class 0: 99.010%, Class 1: 0.990%\n",
      "Fitting 3 folds for each of 20 candidates, totalling 60 fits\n",
      "Accuracy: 99.356%\n"
     ]
    }
   ],
   "source": [
    "# define the class distribution 1:100\n",
    "ratio = {0:10000, 1:100}\n",
    "# generate dataset\n",
    "X, y = get_imbalanced_dataset(ratio)\n",
    "# summarize class distribution:\n",
    "major = (len(where(y == 0)[0]) / len(X)) * 100\n",
    "minor = (len(where(y == 1)[0]) / len(X)) * 100\n",
    "print('Class 0: %.3f%%, Class 1: %.3f%%' % (major, minor))\n",
    "\n",
    "grid = {'C': 10.0 ** np.arange(-2, 3),\n",
    "                        'penalty': ['none', 'l2'],\n",
    "                        'class_weight': [None, 'auto']}\n",
    "X_train, X_test, y_train, y_test = train_test_split(X, y, test_size=0.2, random_state=42,shuffle=True)\n",
    "# define model\n",
    "clf_base = LogisticRegression()\n",
    "cv = KFold(n_splits=3, shuffle=True, random_state=42)\n",
    "clf = GridSearchCV(clf_base, grid, cv=cv, n_jobs=8, verbose=10)\n",
    "clf=clf.fit(X_train, y_train)\n",
    "y_pred=clf.predict(X_test)\n",
    "\n",
    "# print score\n",
    "print('Accuracy: %.3f%%' % (accuracy_score(y_test, y_pred) * 100))"
   ]
  },
  {
   "cell_type": "code",
   "execution_count": null,
   "id": "837d5dd7",
   "metadata": {},
   "outputs": [],
   "source": []
  }
 ],
 "metadata": {
  "kernelspec": {
   "display_name": "Python 3 (ipykernel)",
   "language": "python",
   "name": "python3"
  },
  "language_info": {
   "codemirror_mode": {
    "name": "ipython",
    "version": 3
   },
   "file_extension": ".py",
   "mimetype": "text/x-python",
   "name": "python",
   "nbconvert_exporter": "python",
   "pygments_lexer": "ipython3",
   "version": "3.7.11"
  }
 },
 "nbformat": 4,
 "nbformat_minor": 5
}
